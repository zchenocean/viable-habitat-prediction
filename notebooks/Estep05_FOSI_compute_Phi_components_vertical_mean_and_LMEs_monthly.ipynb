{
 "cells": [
  {
   "cell_type": "markdown",
   "id": "1828e13c-dc57-48d8-9b94-d4d5894fd773",
   "metadata": {},
   "source": [
    "## Calculate Phi vertical mean for a particular layer and LME"
   ]
  },
  {
   "cell_type": "code",
   "execution_count": 1,
   "id": "aea3160a-d1f3-4969-a872-e4ebeca38d37",
   "metadata": {},
   "outputs": [],
   "source": [
    "import xarray as xr\n",
    "import numpy as np\n",
    "import netCDF4\n",
    "import os\n",
    "import warnings\n",
    "warnings.filterwarnings('ignore')"
   ]
  },
  {
   "cell_type": "code",
   "execution_count": 2,
   "id": "c279e571-594a-47cd-8396-d017207180c8",
   "metadata": {},
   "outputs": [],
   "source": [
    "USER = os.environ['USER']\n",
    "path = f'/glade/scratch/{USER}/DPLE-results'\n",
    "tres = 'monthly'\n",
    "a1,a2,b1,b2 = [240,380,125,320]\n",
    "dout = f'/glade/scratch/{USER}/DPLE-results'\n",
    "os.makedirs(dout, exist_ok=True)"
   ]
  },
  {
   "cell_type": "code",
   "execution_count": 3,
   "id": "47969d29-aa30-4606-bc09-570590af54ad",
   "metadata": {},
   "outputs": [],
   "source": [
    "datadir = '/glade/campaign/cesm/collections/CESM1-DPLE/DPLE-FOSI/rerun_with_extension/timeseries'\n",
    "filename = f'{datadir}/g.DPLE.GECOIAF.T62_g16.009.chey.pop.h.TEMP.024901-031812.nc'\n",
    "dset = xr.open_dataset(filename)\n",
    "dz = dset['dz'].isel(z_t=range(0, 35))/1e2 # m\n",
    "darea = dset['TAREA'].isel(nlat=range(a1, a2), nlon=range(b1, b2))/1e10 #km*km\n",
    "KMT = dset['KMT'].isel(nlat=range(a1, a2), nlon=range(b1, b2))\n",
    "dset.close()"
   ]
  },
  {
   "cell_type": "code",
   "execution_count": 4,
   "id": "ca5ec3bb-f286-4778-9e61-bfd0aadab0fd",
   "metadata": {},
   "outputs": [],
   "source": [
    "dvol = dz*darea\n",
    "for xx in range(a2-a1):\n",
    "    for yy in range(b2-b1):\n",
    "        kk = np.int(KMT[xx, yy])\n",
    "        if kk < 60:\n",
    "            dvol[kk:, xx, yy] = float(\"nan\")"
   ]
  },
  {
   "cell_type": "code",
   "execution_count": 5,
   "id": "410a1dc5-225d-4036-b45e-dd3c2d6f81e3",
   "metadata": {},
   "outputs": [
    {
     "name": "stdout",
     "output_type": "stream",
     "text": [
      "O2\n",
      "0\n",
      "6\n",
      "12\n",
      "AOU\n",
      "0\n",
      "6\n",
      "12\n",
      "T\n",
      "0\n",
      "6\n",
      "12\n",
      "S\n",
      "0\n",
      "6\n",
      "12\n"
     ]
    }
   ],
   "source": [
    "for varr in ['O2','AOU','T','S']:\n",
    "    print(varr)\n",
    "    filename = f'{path}/DPLE-FOSI_hindcast_Phi_components_{varr}_1948-2017_{tres}.nc'\n",
    "    ds = xr.open_dataset(filename)\n",
    "    dsf = xr.Dataset()\n",
    "    for ii in [0,6,12]:\n",
    "        print(ii)\n",
    "        Phi_i = ds[f'Phi_{varr}_{ii}']*dvol\n",
    "        # select a vertical layer\n",
    "        dsf[f'Phi_{varr}_{ii}_0-200m'] = Phi_i.isel(z_t=range(0, 20, 1)).sum(dim='z_t')/(dvol.isel(z_t=range(0, 20, 1)).sum(dim='z_t'))\n",
    "        dsf[f'Phi_{varr}_{ii}_200-600m'] = Phi_i.isel(z_t=range(20, 35, 1)).sum(dim='z_t')/(dvol.isel(z_t=range(20, 35, 1)).sum(dim='z_t'))\n",
    "        #\n",
    "    dsf.load()\n",
    "    dsf.to_netcdf(f'{dout}/DPLE-FOSI_hindcast_Phi_components_{varr}_Eo_space_vertical_mean_1948-2017_{tres}.nc', mode='w')"
   ]
  },
  {
   "cell_type": "markdown",
   "id": "eeefa56e-bdc0-4f07-8b0a-596a2a597fbe",
   "metadata": {},
   "source": [
    "## calculate LME-averaged Phi "
   ]
  },
  {
   "cell_type": "code",
   "execution_count": 6,
   "id": "921f95fb-dd30-4cd8-8e37-915314a9ffc8",
   "metadata": {},
   "outputs": [],
   "source": [
    "datadir = f'/glade/u/home/{USER}/O2prediction/Prediction/notebooks/data'\n",
    "filename = '%s/LME-mask-POP_gx1v6.nc' % datadir\n",
    "ds1 = xr.open_dataset(filename)\n",
    "lme_mask = ds1['lme_mask'].isel(nlat=range(a1, a2), nlon=range(b1, b2))"
   ]
  },
  {
   "cell_type": "code",
   "execution_count": 7,
   "id": "927c5897-369f-413d-825b-3620517884d6",
   "metadata": {},
   "outputs": [
    {
     "data": {
      "text/plain": [
       "840"
      ]
     },
     "execution_count": 7,
     "metadata": {},
     "output_type": "execute_result"
    }
   ],
   "source": [
    "#lme = range(np.int(lme_mask.min()), np.int(lme_mask.max()), 1)\n",
    "lme = [1, 2, 3, 4, 5, 6, 7, 8, 9, 10, 65]\n",
    "nmon = dsf.dims['time']\n",
    "#nmon = dsf.dims['year']\n",
    "nmon"
   ]
  },
  {
   "cell_type": "code",
   "execution_count": 9,
   "id": "269edbb4-794e-44da-8f5f-5c4ef1d13995",
   "metadata": {},
   "outputs": [
    {
     "name": "stdout",
     "output_type": "stream",
     "text": [
      "O2\n",
      "0\n",
      "6\n",
      "12\n",
      "AOU\n",
      "0\n",
      "6\n",
      "12\n",
      "T\n",
      "0\n",
      "6\n",
      "12\n",
      "S\n",
      "0\n",
      "6\n",
      "12\n"
     ]
    }
   ],
   "source": [
    "for varr in ['O2','AOU','T','S']:\n",
    "    print(varr)\n",
    "    filename = f'{path}/DPLE-FOSI_hindcast_Phi_components_{varr}_Eo_space_vertical_mean_1948-2017_{tres}.nc'\n",
    "    dsf = xr.open_dataset(filename)\n",
    "    #\n",
    "    boxPhi = xr.Dataset()\n",
    "    #for ii in range(13):\n",
    "    for ii in [0,6,12]:\n",
    "        print(ii)\n",
    "        phi_box1 = np.ma.zeros([len(lme), nmon])\n",
    "        phi_box1.mask = True\n",
    "        phi_box2 = phi_box1.copy()\n",
    "        for box,hh in zip(lme, range(len(lme))):\n",
    "            latloc, lonloc = np.where(lme_mask == box)\n",
    "            ar1 = np.ma.zeros([len(latloc),nmon]);ar1.mask=True\n",
    "            ar2 = ar1.copy()\n",
    "            for bb in range(len(latloc)):\n",
    "                ar1[bb] = dsf[f'Phi_{varr}_{ii}_0-200m'].isel(nlat=latloc[bb], nlon=lonloc[bb])\n",
    "                ar2[bb] = dsf[f'Phi_{varr}_{ii}_200-600m'].isel(nlat=latloc[bb], nlon=lonloc[bb])\n",
    "            phi_box1[hh] = np.nanmean(ar1,axis=0)\n",
    "            phi_box2[hh] = np.nanmean(ar2,axis=0)\n",
    "        #\n",
    "        boxPhi[f'Phi_{varr}_{ii}_0-200m'] = xr.DataArray(data=phi_box1, coords=dict(lme=('lme', lme), time=('time', dsf.coords['time'].values)), dims=('lme','time'))\n",
    "        boxPhi[f'Phi_{varr}_{ii}_200-600m'] = xr.DataArray(data=phi_box2, coords=dict(lme=('lme', lme), time=('time', dsf.coords['time'].values)), dims=('lme','time'))\n",
    "    #\n",
    "    boxPhi.load()\n",
    "    boxPhi.to_netcdf(f'{dout}/DPLE-FOSI_hindcast_Phi_components_{varr}_Eo_space_LME_1948-2017_{tres}.nc', mode='w')\n",
    "#"
   ]
  },
  {
   "cell_type": "code",
   "execution_count": null,
   "id": "b4262a19-59c9-48fe-98f9-72d181db4815",
   "metadata": {},
   "outputs": [],
   "source": []
  }
 ],
 "metadata": {
  "kernelspec": {
   "display_name": "Python [conda env:.conda-fish-offline]",
   "language": "python",
   "name": "conda-env-.conda-fish-offline-py"
  },
  "language_info": {
   "codemirror_mode": {
    "name": "ipython",
    "version": 3
   },
   "file_extension": ".py",
   "mimetype": "text/x-python",
   "name": "python",
   "nbconvert_exporter": "python",
   "pygments_lexer": "ipython3",
   "version": "3.7.8"
  }
 },
 "nbformat": 4,
 "nbformat_minor": 5
}
