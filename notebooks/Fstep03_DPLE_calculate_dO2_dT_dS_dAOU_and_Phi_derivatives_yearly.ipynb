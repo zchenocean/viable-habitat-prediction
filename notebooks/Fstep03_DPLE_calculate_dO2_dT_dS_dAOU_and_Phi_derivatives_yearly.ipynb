{
 "cells": [
  {
   "cell_type": "markdown",
   "id": "dfde6e99-53dd-4276-80ab-9c6fe147bb99",
   "metadata": {},
   "source": [
    "# Yearly Averages "
   ]
  },
  {
   "cell_type": "code",
   "execution_count": 1,
   "id": "284f7616-f5ad-4c4d-a07c-d6306f27b736",
   "metadata": {},
   "outputs": [],
   "source": [
    "import xarray as xr\n",
    "import numpy as np\n",
    "import os\n",
    "import warnings\n",
    "warnings.filterwarnings('ignore')"
   ]
  },
  {
   "cell_type": "code",
   "execution_count": 2,
   "id": "dc340f2c-d12c-4166-baba-4d7042d5fd90",
   "metadata": {},
   "outputs": [],
   "source": [
    "USER = os.environ['USER']"
   ]
  },
  {
   "cell_type": "markdown",
   "id": "583a35e3-7857-4204-bbe8-51e8301e302c",
   "metadata": {},
   "source": [
    "# Yearly Averages of Derevatives"
   ]
  },
  {
   "cell_type": "code",
   "execution_count": 3,
   "id": "06c4af57-b66d-4347-b847-c1bb211ca0a4",
   "metadata": {},
   "outputs": [],
   "source": [
    "path = f'/glade/scratch/{USER}/DPLE-results'\n",
    "filename = f'{path}/DPLE_driftcorrected_dPhidO2_dPhidT_dPhidS_ens_mean_monthly.nc'\n",
    "ds = xr.open_dataset(filename)"
   ]
  },
  {
   "cell_type": "code",
   "execution_count": 5,
   "id": "078570bd-a66b-493b-a757-2f3a61c758c1",
   "metadata": {
    "collapsed": true,
    "jupyter": {
     "outputs_hidden": true
    },
    "tags": []
   },
   "outputs": [
    {
     "name": "stdout",
     "output_type": "stream",
     "text": [
      "O2\n",
      "0\n",
      "1\n",
      "2\n",
      "3\n",
      "4\n",
      "5\n",
      "6\n",
      "7\n",
      "8\n",
      "9\n",
      "10\n",
      "11\n",
      "12\n",
      "T\n",
      "0\n",
      "1\n",
      "2\n",
      "3\n",
      "4\n",
      "5\n",
      "6\n",
      "7\n",
      "8\n",
      "9\n",
      "10\n",
      "11\n",
      "12\n",
      "S\n",
      "0\n",
      "1\n",
      "2\n",
      "3\n",
      "4\n",
      "5\n",
      "6\n",
      "7\n",
      "8\n",
      "9\n",
      "10\n",
      "11\n",
      "12\n"
     ]
    }
   ],
   "source": [
    "for varr in ['O2','T','S']:\n",
    "    print(varr)\n",
    "    dsf = xr.Dataset()\n",
    "    for cc in range(13):\n",
    "        print(cc)\n",
    "        dphidvar = np.ma.zeros([10,35,140,195]);dphidvar.mask=True\n",
    "        for yy in range(10):\n",
    "            dphidvar[yy,:] = ds[f'dPhid{varr}_{cc}'].isel(L=range(2+12*yy,2+12*(yy+1))).mean(dim=\"L\")\n",
    "        dsf[f'dPhid{varr}_{cc}'] = xr.DataArray(data=dphidvar, coords=dict(year=('year', range(10)), z_t=('z_t', ds.coords['z_t'].values), nlat=('nlat', ds.coords['nlat'].values), nlon=('nlon', ds.coords['nlon'].values)), dims=('year','z_t','nlat','nlon'))\n",
    "    dsf.load()\n",
    "    dsf.to_netcdf(f'{path}/DPLE_driftcorrected_dPhid{varr}_ens_mean_yearly.nc', mode='w')"
   ]
  },
  {
   "cell_type": "markdown",
   "id": "e426d0ae-55a1-4faa-b32b-38b9bd469c0c",
   "metadata": {},
   "source": [
    "# Yearly averaged of dVar"
   ]
  },
  {
   "cell_type": "code",
   "execution_count": 4,
   "id": "a7c782cb-6497-44cf-b8cd-e98771f0481c",
   "metadata": {},
   "outputs": [
    {
     "name": "stdout",
     "output_type": "stream",
     "text": [
      "TEMP\n",
      "0\n",
      "1\n",
      "2\n",
      "3\n",
      "4\n",
      "5\n",
      "6\n",
      "7\n",
      "8\n",
      "9\n",
      "SALT\n",
      "0\n",
      "1\n",
      "2\n",
      "3\n",
      "4\n",
      "5\n",
      "6\n",
      "7\n",
      "8\n",
      "9\n",
      "AOU\n",
      "0\n",
      "1\n",
      "2\n",
      "3\n",
      "4\n",
      "5\n",
      "6\n",
      "7\n",
      "8\n",
      "9\n"
     ]
    }
   ],
   "source": [
    "path = f'/glade/scratch/{USER}/DPLE-results'\n",
    "for varr in ['O2','TEMP','SALT','AOU']:\n",
    "#for varr in ['TEMP','SALT','AOU']:\n",
    "    print(varr)\n",
    "    filename = f'{path}/DPLE-driftcorrected_d{varr}_ens_mean_monthly.nc'\n",
    "    ds = xr.open_dataset(filename)\n",
    "    #\n",
    "    dsf = xr.Dataset()\n",
    "    dvar = np.ma.zeros([64,10,35,140,195]);dvar.mask=True\n",
    "    for yy in range(10):\n",
    "        print(yy)\n",
    "        dvar[:,yy,:] = ds[f'd{varr}'].isel(L=range(2+12*yy,2+12*(yy+1))).mean(dim=\"L\")\n",
    "    dsf[f'd{varr}'] = xr.DataArray(data=dvar, coords=dict(Y=('Y', ds.coords['Y'].values), year=('year', range(10)), z_t=('z_t', ds.coords['z_t'].values), nlat=('nlat', ds.coords['nlat'].values), nlon=('nlon', ds.coords['nlon'].values)), dims=('Y','year','z_t','nlat','nlon'))\n",
    "    dsf.load()\n",
    "    dsf.to_netcdf(f'{path}/DPLE_driftcorrected_d{varr}_ens_mean_yearly.nc', mode='w')"
   ]
  },
  {
   "cell_type": "code",
   "execution_count": null,
   "id": "aaee59da-0b65-45c6-8b65-84696ae509a3",
   "metadata": {},
   "outputs": [],
   "source": []
  }
 ],
 "metadata": {
  "kernelspec": {
   "display_name": "Python [conda env:.conda-fish-offline]",
   "language": "python",
   "name": "conda-env-.conda-fish-offline-py"
  },
  "language_info": {
   "codemirror_mode": {
    "name": "ipython",
    "version": 3
   },
   "file_extension": ".py",
   "mimetype": "text/x-python",
   "name": "python",
   "nbconvert_exporter": "python",
   "pygments_lexer": "ipython3",
   "version": "3.7.8"
  }
 },
 "nbformat": 4,
 "nbformat_minor": 5
}
