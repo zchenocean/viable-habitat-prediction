{
 "cells": [
  {
   "cell_type": "markdown",
   "id": "a99ff75b-6aff-496d-b3ae-3f69f0d5dbb4",
   "metadata": {},
   "source": [
    "# Calculate Partial Derivatives of Phi to O2,T,S at O2=O2_bar, T=T_bar, S=S_bar"
   ]
  },
  {
   "cell_type": "code",
   "execution_count": 1,
   "id": "35888d7b-7fa9-43ce-947f-32809af15414",
   "metadata": {},
   "outputs": [],
   "source": [
    "import Phi_derivative as Pd\n",
    "import xarray as xr\n",
    "import numpy as np\n",
    "import os\n",
    "import warnings\n",
    "warnings.filterwarnings('ignore')"
   ]
  },
  {
   "cell_type": "code",
   "execution_count": 2,
   "id": "cf140766-03c1-40be-8f8a-fa48f3ddc999",
   "metadata": {},
   "outputs": [],
   "source": [
    "USER = os.environ['USER']\n",
    "path = f'/glade/scratch/{USER}/DPLE-results'\n",
    "tres = 'monthly'"
   ]
  },
  {
   "cell_type": "markdown",
   "id": "8d36ee6e-8d67-4e13-b639-7b10e460a428",
   "metadata": {},
   "source": [
    "### the partial derivatives"
   ]
  },
  {
   "cell_type": "code",
   "execution_count": 3,
   "id": "e9524d81-c8d6-4d13-8a0a-b3ac2cb67700",
   "metadata": {},
   "outputs": [],
   "source": [
    "filename = f'{path}/DPLE-FOSI_hindcast_dPhidO2_dPhidT_dPhidS_1948-2017_{tres}.nc'\n",
    "ds = xr.open_dataset(filename)"
   ]
  },
  {
   "cell_type": "markdown",
   "id": "acb24c64-c0a6-45da-8408-14fbabbda732",
   "metadata": {},
   "source": [
    "## dT, dS, dO2, dAOU"
   ]
  },
  {
   "cell_type": "code",
   "execution_count": 4,
   "id": "b99e77a4-8e74-4bb4-863a-fc0f32d13f70",
   "metadata": {},
   "outputs": [],
   "source": [
    "filename = f'{path}/DPLE-FOSI_hindcast_dO2_dT_dS_dAOU_1948-2017_{tres}.nc'\n",
    "ds0 = xr.open_dataset(filename)\n",
    "dT = ds0['dT']\n",
    "dS = ds0['dS']\n",
    "dO2 = ds0['dO2']\n",
    "dAOU = ds0['dAOU']"
   ]
  },
  {
   "cell_type": "markdown",
   "id": "782cfbe4-c4f0-420b-af74-e2d31041c36e",
   "metadata": {},
   "source": [
    "## calculate Phi components"
   ]
  },
  {
   "cell_type": "code",
   "execution_count": 5,
   "id": "b9790236-203c-4839-9b62-ea6623ec6b5f",
   "metadata": {},
   "outputs": [
    {
     "name": "stdout",
     "output_type": "stream",
     "text": [
      "[10]\n",
      "[-0.2 -0.1  0.   0.1  0.2  0.3  0.4  0.5  0.6  0.7  0.8  0.9  1. ]\n"
     ]
    }
   ],
   "source": [
    "Ac_dist = [10]\n",
    "Eo_dist = np.arange(-.2,1.1,.1)\n",
    "print(Ac_dist)\n",
    "print(Eo_dist)"
   ]
  },
  {
   "cell_type": "code",
   "execution_count": 6,
   "id": "c1ee8863-44ee-4009-bf7e-ba8b30a21afe",
   "metadata": {},
   "outputs": [
    {
     "name": "stdout",
     "output_type": "stream",
     "text": [
      "10 -0.2\n",
      "Phi O2 done\n",
      "10 -0.1\n",
      "Phi O2 done\n",
      "10 0.0\n",
      "Phi O2 done\n",
      "10 0.10000000000000003\n",
      "Phi O2 done\n",
      "10 0.2\n",
      "Phi O2 done\n",
      "10 0.3\n",
      "Phi O2 done\n",
      "10 0.4000000000000001\n",
      "Phi O2 done\n",
      "10 0.5\n",
      "Phi O2 done\n",
      "10 0.6000000000000001\n",
      "Phi O2 done\n",
      "10 0.7\n",
      "Phi O2 done\n",
      "10 0.8\n",
      "Phi O2 done\n",
      "10 0.9000000000000001\n",
      "Phi O2 done\n",
      "10 1.0000000000000002\n",
      "Phi O2 done\n",
      "10 -0.2\n",
      "Phi AOU done\n",
      "10 -0.1\n",
      "Phi AOU done\n",
      "10 0.0\n",
      "Phi AOU done\n",
      "10 0.10000000000000003\n",
      "Phi AOU done\n",
      "10 0.2\n",
      "Phi AOU done\n",
      "10 0.3\n",
      "Phi AOU done\n",
      "10 0.4000000000000001\n",
      "Phi AOU done\n",
      "10 0.5\n",
      "Phi AOU done\n",
      "10 0.6000000000000001\n",
      "Phi AOU done\n",
      "10 0.7\n",
      "Phi AOU done\n",
      "10 0.8\n",
      "Phi AOU done\n",
      "10 0.9000000000000001\n",
      "Phi AOU done\n",
      "10 1.0000000000000002\n",
      "Phi AOU done\n",
      "10 -0.2\n",
      "Phi T done\n",
      "10 -0.1\n",
      "Phi T done\n",
      "10 0.0\n",
      "Phi T done\n",
      "10 0.10000000000000003\n",
      "Phi T done\n",
      "10 0.2\n",
      "Phi T done\n",
      "10 0.3\n",
      "Phi T done\n",
      "10 0.4000000000000001\n",
      "Phi T done\n",
      "10 0.5\n",
      "Phi T done\n",
      "10 0.6000000000000001\n",
      "Phi T done\n",
      "10 0.7\n",
      "Phi T done\n",
      "10 0.8\n",
      "Phi T done\n",
      "10 0.9000000000000001\n",
      "Phi T done\n",
      "10 1.0000000000000002\n",
      "Phi T done\n",
      "10 -0.2\n",
      "Phi S done\n",
      "10 -0.1\n",
      "Phi S done\n",
      "10 0.0\n",
      "Phi S done\n",
      "10 0.10000000000000003\n",
      "Phi S done\n",
      "10 0.2\n",
      "Phi S done\n",
      "10 0.3\n",
      "Phi S done\n",
      "10 0.4000000000000001\n",
      "Phi S done\n",
      "10 0.5\n",
      "Phi S done\n",
      "10 0.6000000000000001\n",
      "Phi S done\n",
      "10 0.7\n",
      "Phi S done\n",
      "10 0.8\n",
      "Phi S done\n",
      "10 0.9000000000000001\n",
      "Phi S done\n",
      "10 1.0000000000000002\n",
      "Phi S done\n",
      "CPU times: user 2min 26s, sys: 8min 7s, total: 10min 34s\n",
      "Wall time: 15min 6s\n"
     ]
    }
   ],
   "source": [
    "%%time\n",
    "nrow = len(Ac_dist)\n",
    "ncol = len(Eo_dist)\n",
    "from itertools import product\n",
    "\n",
    "for varr in ['O2', 'AOU', 'T', 'S']:\n",
    "    dsg = xr.Dataset()\n",
    "    for i, j in product(range(nrow), range(ncol)):\n",
    "        Ac = Ac_dist[i]\n",
    "        Eo = Eo_dist[j]\n",
    "        print(Ac,Eo)\n",
    "        if varr == 'O2':\n",
    "            dsg[f'Phi_O2_{nrow*i+j}'] =  ds[f'dPhidO2_{nrow*i+j}'] * dO2 #dEodT=0.022\n",
    "            print('Phi O2 done')\n",
    "        elif varr == 'AOU':\n",
    "            dsg[f'Phi_AOU_{nrow*i+j}'] = -ds[f'dPhidO2_{nrow*i+j}'] * dAOU\n",
    "            print('Phi AOU done')\n",
    "        elif varr == 'T':\n",
    "            dsg[f'Phi_T_{nrow*i+j}'] = ds[f'dPhidT_{nrow*i+j}'] * dT  #dEodT=0.022\n",
    "            print('Phi T done')\n",
    "        elif varr == 'S':\n",
    "            dsg[f'Phi_S_{nrow*i+j}'] = ds[f'dPhidS_{nrow*i+j}'] * dS  #dEodT=0.022\n",
    "            print('Phi S done')\n",
    "    dout = f'/glade/scratch/{USER}/DPLE-results'\n",
    "    os.makedirs(dout, exist_ok=True)\n",
    "    dsg.load()\n",
    "    #\n",
    "    dsg.to_netcdf(f'{dout}/DPLE-FOSI_hindcast_Phi_components_{varr}_1948-2017_{tres}.nc', mode='w')"
   ]
  },
  {
   "cell_type": "code",
   "execution_count": null,
   "id": "5523ab62-c652-49db-83ab-1f1564da74e5",
   "metadata": {},
   "outputs": [],
   "source": []
  }
 ],
 "metadata": {
  "kernelspec": {
   "display_name": "Python [conda env:.conda-fish-offline]",
   "language": "python",
   "name": "conda-env-.conda-fish-offline-py"
  },
  "language_info": {
   "codemirror_mode": {
    "name": "ipython",
    "version": 3
   },
   "file_extension": ".py",
   "mimetype": "text/x-python",
   "name": "python",
   "nbconvert_exporter": "python",
   "pygments_lexer": "ipython3",
   "version": "3.7.8"
  }
 },
 "nbformat": 4,
 "nbformat_minor": 5
}
