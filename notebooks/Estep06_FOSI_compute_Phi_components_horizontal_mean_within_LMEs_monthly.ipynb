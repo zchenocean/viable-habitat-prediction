{
 "cells": [
  {
   "cell_type": "markdown",
   "id": "279e813b-9faa-4040-966b-319fc4390dc6",
   "metadata": {},
   "source": [
    "## Calculate Phi spatial average within a basin or within LMEs"
   ]
  },
  {
   "cell_type": "code",
   "execution_count": 1,
   "id": "b38754fe-16fe-4117-8560-d1bb93630691",
   "metadata": {},
   "outputs": [],
   "source": [
    "import metabolic as mi\n",
    "import xarray as xr\n",
    "import numpy as np\n",
    "import netCDF4\n",
    "import os\n",
    "import warnings\n",
    "warnings.filterwarnings('ignore')"
   ]
  },
  {
   "cell_type": "code",
   "execution_count": 2,
   "id": "342c4f7d-6763-4bfa-abd8-606d934ed29c",
   "metadata": {},
   "outputs": [],
   "source": [
    "USER = os.environ['USER']\n",
    "path = f'/glade/scratch/{USER}/DPLE-results'\n",
    "a1,a2,b1,b2 = [240,380,125,320]\n",
    "tres = 'monthly'"
   ]
  },
  {
   "cell_type": "code",
   "execution_count": 3,
   "id": "527b5698-8069-432e-8f20-367d03d33129",
   "metadata": {},
   "outputs": [],
   "source": [
    "datadir = '/glade/campaign/cesm/collections/CESM1-DPLE/DPLE-FOSI/rerun_with_extension/timeseries'\n",
    "filename = f'{datadir}/g.DPLE.GECOIAF.T62_g16.009.chey.pop.h.TEMP.024901-031812.nc'\n",
    "dset = xr.open_dataset(filename)\n",
    "dz = dset['dz'].isel(z_t=range(0, 35))/1e2 # m\n",
    "darea = dset['TAREA'].isel(nlat=range(a1, a2), nlon=range(b1, b2))/1e10 #km*km\n",
    "KMT = dset['KMT'].isel(nlat=range(a1, a2), nlon=range(b1, b2))\n",
    "dset.close()"
   ]
  },
  {
   "cell_type": "code",
   "execution_count": 4,
   "id": "9f7b243b-d841-41de-bf60-925b9a7c3212",
   "metadata": {},
   "outputs": [],
   "source": [
    "darea = darea*dz/dz\n",
    "darea = darea.transpose(\"z_t\",\"nlat\",\"nlon\")"
   ]
  },
  {
   "cell_type": "code",
   "execution_count": 5,
   "id": "8d9a00b1-fe82-48b3-82af-10ef6e7b1bc8",
   "metadata": {},
   "outputs": [],
   "source": [
    "for xx in range(a2-a1):\n",
    "    for yy in range(b2-b1):\n",
    "        kk = np.int(KMT[xx, yy])\n",
    "        if kk < 60:\n",
    "            darea[kk:, xx, yy] = float(\"nan\")"
   ]
  },
  {
   "cell_type": "code",
   "execution_count": 6,
   "id": "921f95fb-dd30-4cd8-8e37-915314a9ffc8",
   "metadata": {},
   "outputs": [],
   "source": [
    "datadir = f'/glade/u/home/{USER}/O2prediction/Prediction/notebooks/data'\n",
    "filename = '%s/LME-mask-POP_gx1v6.nc' % datadir\n",
    "ds1 = xr.open_dataset(filename)\n",
    "lme_mask = ds1['lme_mask'].isel(nlat=range(a1, a2), nlon=range(b1, b2))\n",
    "lme = [1,2,3,4,5,6,7,8,9,10,65]"
   ]
  },
  {
   "cell_type": "code",
   "execution_count": 7,
   "id": "259b7527-5dff-41ac-aec6-73cf44cc33b9",
   "metadata": {},
   "outputs": [
    {
     "name": "stdout",
     "output_type": "stream",
     "text": [
      "O2\n",
      "0\n",
      "6\n",
      "12\n",
      "1\n",
      "2\n",
      "3\n",
      "4\n",
      "5\n",
      "6\n",
      "7\n",
      "8\n",
      "9\n",
      "10\n",
      "65\n",
      "AOU\n",
      "0\n",
      "6\n",
      "12\n",
      "1\n",
      "2\n",
      "3\n",
      "4\n",
      "5\n",
      "6\n",
      "7\n",
      "8\n",
      "9\n",
      "10\n",
      "65\n",
      "T\n",
      "0\n",
      "6\n",
      "12\n",
      "1\n",
      "2\n",
      "3\n",
      "4\n",
      "5\n",
      "6\n",
      "7\n",
      "8\n",
      "9\n",
      "10\n",
      "65\n",
      "S\n",
      "0\n",
      "6\n",
      "12\n",
      "1\n",
      "2\n",
      "3\n",
      "4\n",
      "5\n",
      "6\n",
      "7\n",
      "8\n",
      "9\n",
      "10\n",
      "65\n"
     ]
    }
   ],
   "source": [
    "for varr in ['O2','AOU','T','S']:\n",
    "    print(varr)\n",
    "    filename = f'{path}/DPLE-FOSI_hindcast_Phi_components_{varr}_1948-2017_{tres}.nc'\n",
    "    ds = xr.open_dataset(filename)\n",
    "    if tres == 'yearly':\n",
    "        tnam = 'year'    \n",
    "    else:\n",
    "        tnam = 'time'\n",
    "    nmon = ds.dims[tnam]\n",
    "    nver = ds.dims['z_t']\n",
    "    #\n",
    "    dsf = xr.Dataset()\n",
    "    for ii in [0,6,12]:\n",
    "        print(ii)\n",
    "        dsf[f'Phi_{varr}_{ii}'] = (ds[f'Phi_{varr}_{ii}']*darea).transpose(\"time\",\"z_t\",\"nlat\",\"nlon\")\n",
    "    # start horizontal averaging within each LME\n",
    "    phi_box = np.ma.zeros([3, len(lme), nmon, nver])\n",
    "    phi_box.mask = True\n",
    "    # select a LME\n",
    "    for box,nn in zip(lme,range(len(lme))):\n",
    "        print(box)\n",
    "        latloc, lonloc = np.where(lme_mask == box)\n",
    "        ar1 = np.ma.zeros([len(latloc),nver]);ar1.mask=True\n",
    "        ar2 = np.ma.zeros([3, len(latloc),nmon,nver]);ar2.mask=True\n",
    "        for bb in range(len(latloc)):\n",
    "            ar1[bb] = darea.isel(nlat=latloc[bb], nlon=lonloc[bb])\n",
    "            for ii,xx in zip(range(3),[0,6,12]):\n",
    "                ar2[ii,bb] = dsf[f'Phi_{varr}_{xx}'].isel(nlat=latloc[bb], nlon=lonloc[bb])\n",
    "        #\n",
    "        tarea = np.nansum(ar1,axis=0)\n",
    "        tarea = np.tile(tarea[np.newaxis,np.newaxis,np.newaxis,:],[3,nmon,1])\n",
    "        phi_box[:,nn] = np.nansum(ar2,axis=1)/tarea  \n",
    "    # save data\n",
    "    dsf = xr.Dataset()\n",
    "    for ii,xx in zip(range(3),[0,6,12]):\n",
    "        dsf[f'Phi_{varr}_{xx}'] = xr.DataArray(data=phi_box[ii], coords=dict(lme=('lme', lme), time=('time', ds.coords['time'].values), z_t=('z_t', ds.coords['z_t'].values)), dims=('lme','time','z_t'))\n",
    "    #\n",
    "    dsf.load()\n",
    "    dsf.to_netcdf(f'{path}/DPLE-FOSI_hindcast_Phi_components_{varr}_Eo_space_horizontal_mean_1948-2017_{tres}.nc', mode='w')"
   ]
  },
  {
   "cell_type": "code",
   "execution_count": null,
   "id": "0dee5fc4-a6b8-413a-a0fa-2f9f80eebdb7",
   "metadata": {},
   "outputs": [],
   "source": []
  }
 ],
 "metadata": {
  "kernelspec": {
   "display_name": "Python [conda env:.conda-fish-offline]",
   "language": "python",
   "name": "conda-env-.conda-fish-offline-py"
  },
  "language_info": {
   "codemirror_mode": {
    "name": "ipython",
    "version": 3
   },
   "file_extension": ".py",
   "mimetype": "text/x-python",
   "name": "python",
   "nbconvert_exporter": "python",
   "pygments_lexer": "ipython3",
   "version": "3.7.8"
  }
 },
 "nbformat": 4,
 "nbformat_minor": 5
}
