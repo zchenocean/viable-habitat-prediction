{
 "cells": [
  {
   "cell_type": "markdown",
   "id": "c5a35a8c-2d64-4a0f-b17e-044d2d4f1401",
   "metadata": {},
   "source": [
    "##  Calculate Yearly DPLE variables"
   ]
  },
  {
   "cell_type": "code",
   "execution_count": 1,
   "id": "cff599f4-d395-4c86-b4ee-08e169c772b1",
   "metadata": {},
   "outputs": [],
   "source": [
    "import xarray as xr\n",
    "import numpy as np\n",
    "import metabolic as mi\n",
    "import os\n",
    "import pandas as pd\n",
    "import utils\n",
    "import warnings\n",
    "warnings.filterwarnings('ignore')"
   ]
  },
  {
   "cell_type": "code",
   "execution_count": 2,
   "id": "6823ce73-82f5-4015-9e83-e9b8e2f71430",
   "metadata": {},
   "outputs": [],
   "source": [
    "def xr_reshape(A, dim, newdims, coords):\n",
    "    \"\"\" Reshape DataArray A to convert its dimension dim into sub-dimensions given by\n",
    "    newdims and the corresponding coords.\n",
    "    Example: Ar = xr_reshape(A, 'time', ['year', 'month'], [(2017, 2018), np.arange(12)]) \"\"\"\n",
    "\n",
    "    # Create a pandas MultiIndex from these labels\n",
    "    ind = pd.MultiIndex.from_product(coords, names=newdims)\n",
    "\n",
    "    # Replace the time index in the DataArray by this new index,\n",
    "    A1 = A.copy()\n",
    "\n",
    "    A1.coords[dim] = ind\n",
    "\n",
    "    # Convert multiindex to individual dims using DataArray.unstack().\n",
    "    # This changes dimension order! The new dimensions are at the end.\n",
    "    A1 = A1.unstack(dim)\n",
    "\n",
    "    # Permute to restore dimensions\n",
    "    i = A.dims.index(dim)\n",
    "    dims = list(A1.dims)\n",
    "\n",
    "    for d in newdims[::-1]:\n",
    "        dims.insert(i, d)\n",
    "\n",
    "    for d in newdims:\n",
    "        _ = dims.pop(-1)\n",
    "\n",
    "\n",
    "    return A1.transpose(*dims)"
   ]
  },
  {
   "cell_type": "code",
   "execution_count": 3,
   "id": "1debd06a-ad2b-4d7e-b238-12acb13fa8e8",
   "metadata": {},
   "outputs": [],
   "source": [
    "USER = os.environ['USER']\n",
    "path = f'/glade/scratch/{USER}/DPLE-results'\n",
    "tres = 'monthly'\n",
    "dout = f'/glade/scratch/{USER}/DPLE-results'\n",
    "os.makedirs(dout, exist_ok=True)"
   ]
  },
  {
   "cell_type": "code",
   "execution_count": 4,
   "id": "a62f34d9-9e75-4689-b814-3ea50714e864",
   "metadata": {},
   "outputs": [
    {
     "name": "stdout",
     "output_type": "stream",
     "text": [
      "O2\n",
      "0\n",
      "6\n",
      "12\n",
      "0\n",
      "6\n",
      "12\n",
      "AOU\n",
      "0\n",
      "6\n",
      "12\n",
      "0\n",
      "6\n",
      "12\n",
      "T\n",
      "0\n",
      "6\n",
      "12\n",
      "0\n",
      "6\n",
      "12\n",
      "S\n",
      "0\n",
      "6\n",
      "12\n",
      "0\n",
      "6\n",
      "12\n"
     ]
    }
   ],
   "source": [
    "for varr in ['O2','AOU','T','S']:\n",
    "    print(varr)\n",
    "    filename = f'{path}/DPLE-FOSI_hindcast_Phi_components_{varr}_Eo_space_vertical_mean_1948-2017_{tres}.nc'\n",
    "    ds = xr.open_dataset(filename)\n",
    "    dsf = xr.Dataset()\n",
    "    for cc in [0,6,12]:\n",
    "        print(cc)\n",
    "        for layer in ['0-200m', '200-600m']:\n",
    "            dsf[f'Phi_{varr}_{cc}_{layer}'] = xr_reshape(ds[f'Phi_{varr}_{cc}_{layer}'], 'time', ['year', 'mon'], [np.arange(70), np.arange(12)]).mean(dim='mon')\n",
    "    dsf.load()\n",
    "    dsf.to_netcdf(f'{dout}/DPLE-FOSI_hindcast_Phi_components_{varr}_Eo_space_vertical_mean_1948-2017_yearly.nc', mode='w')\n",
    "    #\n",
    "    filename = f'{path}/DPLE-FOSI_hindcast_Phi_components_{varr}_Eo_space_LME_1948-2017_{tres}.nc'\n",
    "    ds = xr.open_dataset(filename)\n",
    "    dsf = xr.Dataset()\n",
    "    for cc in [0,6,12]:\n",
    "        print(cc)\n",
    "        for layer in ['0-200m', '200-600m']:\n",
    "            dsf[f'Phi_{varr}_{cc}_{layer}'] = xr_reshape(ds[f'Phi_{varr}_{cc}_{layer}'], 'time', ['year', 'mon'], [np.arange(70), np.arange(12)]).mean(dim='mon')\n",
    "    dsf.load()\n",
    "    dsf.to_netcdf(f'{dout}/DPLE-FOSI_hindcast_Phi_components_{varr}_Eo_space_LME_1948-2017_yearly.nc', mode='w')"
   ]
  },
  {
   "cell_type": "code",
   "execution_count": null,
   "id": "0ea5ebdd-5507-4bec-a3db-f3231ba2c6f1",
   "metadata": {},
   "outputs": [],
   "source": []
  }
 ],
 "metadata": {
  "kernelspec": {
   "display_name": "Python [conda env:.conda-fish-offline]",
   "language": "python",
   "name": "conda-env-.conda-fish-offline-py"
  },
  "language_info": {
   "codemirror_mode": {
    "name": "ipython",
    "version": 3
   },
   "file_extension": ".py",
   "mimetype": "text/x-python",
   "name": "python",
   "nbconvert_exporter": "python",
   "pygments_lexer": "ipython3",
   "version": "3.7.8"
  }
 },
 "nbformat": 4,
 "nbformat_minor": 5
}
