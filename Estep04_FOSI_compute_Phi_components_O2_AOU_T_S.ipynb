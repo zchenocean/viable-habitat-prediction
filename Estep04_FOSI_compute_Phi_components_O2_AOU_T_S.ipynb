{
 "cells": [
  {
   "cell_type": "markdown",
   "id": "a99ff75b-6aff-496d-b3ae-3f69f0d5dbb4",
   "metadata": {},
   "source": [
    "# Calculate Partial Derivatives of Phi to O2,T,S at O2=O2_bar, T=T_bar, S=S_bar"
   ]
  },
  {
   "cell_type": "code",
   "execution_count": 1,
   "id": "35888d7b-7fa9-43ce-947f-32809af15414",
   "metadata": {},
   "outputs": [],
   "source": [
    "import Phi_derivative as Pd\n",
    "import xarray as xr\n",
    "import numpy as np\n",
    "import os\n",
    "import warnings\n",
    "warnings.filterwarnings('ignore')"
   ]
  },
  {
   "cell_type": "code",
   "execution_count": 2,
   "id": "cf140766-03c1-40be-8f8a-fa48f3ddc999",
   "metadata": {},
   "outputs": [],
   "source": [
    "USER = os.environ['USER']"
   ]
  },
  {
   "cell_type": "markdown",
   "id": "8d36ee6e-8d67-4e13-b639-7b10e460a428",
   "metadata": {},
   "source": [
    "### the partial derivatives"
   ]
  },
  {
   "cell_type": "code",
   "execution_count": 3,
   "id": "e9524d81-c8d6-4d13-8a0a-b3ac2cb67700",
   "metadata": {},
   "outputs": [],
   "source": [
    "path = f'/glade/scratch/{USER}/DPLE-results'\n",
    "filename = f'{path}/DPLE-FOSI_hindcast_dPhidO2_dPhidT_dPhidS_1948-2017_monthly.nc'\n",
    "ds = xr.open_dataset(filename)"
   ]
  },
  {
   "cell_type": "markdown",
   "id": "acb24c64-c0a6-45da-8408-14fbabbda732",
   "metadata": {},
   "source": [
    "## dT, dS, dO2, dAOU"
   ]
  },
  {
   "cell_type": "code",
   "execution_count": 4,
   "id": "b99e77a4-8e74-4bb4-863a-fc0f32d13f70",
   "metadata": {},
   "outputs": [],
   "source": [
    "filename = f'{path}/DPLE-FOSI_hindcast_dO2_dT_dS_dAOU_1948-2017_monthly.nc'\n",
    "ds0 = xr.open_dataset(filename)\n",
    "dT = ds0['dT']\n",
    "dS = ds0['dS']\n",
    "dO2 = ds0['dO2']\n",
    "dAOU = ds0['dAOU']"
   ]
  },
  {
   "cell_type": "markdown",
   "id": "782cfbe4-c4f0-420b-af74-e2d31041c36e",
   "metadata": {},
   "source": [
    "## calculate Phi components"
   ]
  },
  {
   "cell_type": "code",
   "execution_count": 5,
   "id": "496e2e4e-6595-44ab-8a5e-b0c945de906a",
   "metadata": {},
   "outputs": [
    {
     "data": {
      "text/html": [
       "<div>\n",
       "<style scoped>\n",
       "    .dataframe tbody tr th:only-of-type {\n",
       "        vertical-align: middle;\n",
       "    }\n",
       "\n",
       "    .dataframe tbody tr th {\n",
       "        vertical-align: top;\n",
       "    }\n",
       "\n",
       "    .dataframe thead th {\n",
       "        text-align: right;\n",
       "    }\n",
       "</style>\n",
       "<table border=\"1\" class=\"dataframe\">\n",
       "  <thead>\n",
       "    <tr style=\"text-align: right;\">\n",
       "      <th></th>\n",
       "      <th>Species</th>\n",
       "      <th>Phylum</th>\n",
       "      <th>Ao</th>\n",
       "      <th>Ac</th>\n",
       "      <th>Eo</th>\n",
       "    </tr>\n",
       "  </thead>\n",
       "  <tbody>\n",
       "    <tr>\n",
       "      <th>0</th>\n",
       "      <td>Acanthephyra acutifrons</td>\n",
       "      <td>Crustacea</td>\n",
       "      <td>26.809651</td>\n",
       "      <td>13.364732</td>\n",
       "      <td>-0.0278</td>\n",
       "    </tr>\n",
       "    <tr>\n",
       "      <th>1</th>\n",
       "      <td>Acanthephyra curtirostris</td>\n",
       "      <td>Crustacea</td>\n",
       "      <td>25.575448</td>\n",
       "      <td>14.364194</td>\n",
       "      <td>0.0380</td>\n",
       "    </tr>\n",
       "    <tr>\n",
       "      <th>2</th>\n",
       "      <td>Acanthephyra purpurea</td>\n",
       "      <td>Crustacea</td>\n",
       "      <td>23.310023</td>\n",
       "      <td>7.460879</td>\n",
       "      <td>0.1320</td>\n",
       "    </tr>\n",
       "    <tr>\n",
       "      <th>3</th>\n",
       "      <td>Acanthephyra smithi</td>\n",
       "      <td>Crustacea</td>\n",
       "      <td>28.985507</td>\n",
       "      <td>17.657939</td>\n",
       "      <td>-0.0301</td>\n",
       "    </tr>\n",
       "    <tr>\n",
       "      <th>5</th>\n",
       "      <td>Acipenser brevirostrum</td>\n",
       "      <td>Chordata</td>\n",
       "      <td>22.123894</td>\n",
       "      <td>4.901716</td>\n",
       "      <td>0.3626</td>\n",
       "    </tr>\n",
       "  </tbody>\n",
       "</table>\n",
       "</div>"
      ],
      "text/plain": [
       "                     Species     Phylum         Ao         Ac      Eo\n",
       "0    Acanthephyra acutifrons  Crustacea  26.809651  13.364732 -0.0278\n",
       "1  Acanthephyra curtirostris  Crustacea  25.575448  14.364194  0.0380\n",
       "2      Acanthephyra purpurea  Crustacea  23.310023   7.460879  0.1320\n",
       "3        Acanthephyra smithi  Crustacea  28.985507  17.657939 -0.0301\n",
       "5     Acipenser brevirostrum   Chordata  22.123894   4.901716  0.3626"
      ]
     },
     "execution_count": 5,
     "metadata": {},
     "output_type": "execute_result"
    }
   ],
   "source": [
    "import traits_db\n",
    "df = traits_db.df_mi\n",
    "df.head()"
   ]
  },
  {
   "cell_type": "code",
   "execution_count": 6,
   "id": "1b50dc8b-62e9-41bf-b896-486ab9e4d5a5",
   "metadata": {},
   "outputs": [
    {
     "name": "stdout",
     "output_type": "stream",
     "text": [
      "[7.34832416]\n",
      "[0.1985 0.3389 0.5625]\n"
     ]
    }
   ],
   "source": [
    "Ac_dist = np.percentile(df.Ac, [50])\n",
    "#Ao_dist = np.percentile(df.Ao, [25, 50, 75])\n",
    "Eo_dist = np.percentile(df.Eo, [25, 50, 75])\n",
    "print(Ac_dist)\n",
    "#print(Ao_dist)\n",
    "print(Eo_dist)"
   ]
  },
  {
   "cell_type": "code",
   "execution_count": 7,
   "id": "c1ee8863-44ee-4009-bf7e-ba8b30a21afe",
   "metadata": {},
   "outputs": [
    {
     "name": "stdout",
     "output_type": "stream",
     "text": [
      "7.3483241595629805 0.1985\n",
      "Phi AOU done\n",
      "7.3483241595629805 0.3389\n",
      "Phi AOU done\n",
      "7.3483241595629805 0.5625\n",
      "Phi AOU done\n",
      "CPU times: user 3min 33s, sys: 3min 54s, total: 7min 27s\n",
      "Wall time: 11min 11s\n"
     ]
    }
   ],
   "source": [
    "%%time\n",
    "nrow = len(Ac_dist)\n",
    "ncol = len(Eo_dist)\n",
    "from itertools import product\n",
    "\n",
    "#for varr in ['O2', 'AOU', 'T', 'S']:\n",
    "for varr in ['AOU']:\n",
    "    dsg = xr.Dataset()\n",
    "    for i, j in product(range(nrow), range(ncol)):\n",
    "        Ac = Ac_dist[i]\n",
    "        Eo = Eo_dist[j]\n",
    "        print(Ac,Eo)\n",
    "        if varr == 'O2':\n",
    "            dsg[f'Phi_O2_{nrow*i+j}'] =  ds[f'dPhidO2_{nrow*i+j}'] * dO2 #dEodT=0.022\n",
    "            print('Phi O2 done')\n",
    "        elif varr == 'AOU':\n",
    "            dsg[f'Phi_AOU_{nrow*i+j}'] = -ds[f'dPhidO2_{nrow*i+j}'] * dAOU\n",
    "            print('Phi AOU done')\n",
    "        elif varr == 'T':\n",
    "            dsg[f'Phi_T_{nrow*i+j}'] = ds[f'dPhidT_{nrow*i+j}'] * dT  #dEodT=0.022\n",
    "            print('Phi T done')\n",
    "        elif varr == 'S':\n",
    "            dsg[f'Phi_S_{nrow*i+j}'] = ds[f'dPhidS_{nrow*i+j}'] * dS  #dEodT=0.022\n",
    "            print('Phi S done')\n",
    "    dout = f'/glade/scratch/{USER}/DPLE-results'\n",
    "    os.makedirs(dout, exist_ok=True)\n",
    "    dsg.load()\n",
    "    #\n",
    "    dsg.to_netcdf(f'{dout}/DPLE-FOSI_hindcast_Phi_components_{varr}_1948-2017_monthly.nc', mode='w')"
   ]
  },
  {
   "cell_type": "code",
   "execution_count": null,
   "id": "5523ab62-c652-49db-83ab-1f1564da74e5",
   "metadata": {},
   "outputs": [],
   "source": []
  }
 ],
 "metadata": {
  "kernelspec": {
   "display_name": "Python [conda env:.conda-fish-offline]",
   "language": "python",
   "name": "conda-env-.conda-fish-offline-py"
  },
  "language_info": {
   "codemirror_mode": {
    "name": "ipython",
    "version": 3
   },
   "file_extension": ".py",
   "mimetype": "text/x-python",
   "name": "python",
   "nbconvert_exporter": "python",
   "pygments_lexer": "ipython3",
   "version": "3.7.8"
  }
 },
 "nbformat": 4,
 "nbformat_minor": 5
}
